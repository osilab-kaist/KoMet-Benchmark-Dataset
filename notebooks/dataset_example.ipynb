{
 "cells": [
  {
   "cell_type": "code",
   "execution_count": 156,
   "id": "1c4395dd",
   "metadata": {},
   "outputs": [],
   "source": [
    "from datetime import datetime\n",
    "import itertools\n",
    "\n",
    "from data.base_dataset import *\n",
    "\n",
    "import matplotlib.pyplot as plt\n",
    "import numpy as np\n",
    "import pandas as pd"
   ]
  },
  {
   "cell_type": "markdown",
   "id": "ab20a100",
   "metadata": {},
   "source": [
    "## BaseDataset"
   ]
  },
  {
   "cell_type": "code",
   "execution_count": 209,
   "id": "96d09c26",
   "metadata": {
    "scrolled": false
   },
   "outputs": [
    {
     "data": {
      "text/plain": [
       "<matplotlib.image.AxesImage at 0x7f3955cf0220>"
      ]
     },
     "execution_count": 209,
     "metadata": {},
     "output_type": "execute_result"
    },
    {
     "data": {
      "image/png": "[encoded data removed]",
      "text/plain": [
       "<Figure size 432x288 with 1 Axes>"
      ]
     },
     "metadata": {
      "needs_background": "light"
     },
     "output_type": "display_data"
    }
   ],
   "source": [
    "base_dataset = AwsBaseDatasetForGdapsKim(root_dir='/home/osilab12/ssd4')\n",
    "aws = base_dataset.load_array(origin=datetime(2020, 7, 12, hour=18), lead_time=0)\n",
    "aws[aws==-9999] = float(\"nan\")\n",
    "plt.imshow(aws[::-1])  # map of rain at 2020/07/01 10:00AM predicted at 0:00AM"
   ]
  },
  {
   "cell_type": "code",
   "execution_count": 207,
   "id": "3fc45f09",
   "metadata": {
    "scrolled": false
   },
   "outputs": [
    {
     "data": {
      "text/plain": [
       "<matplotlib.image.AxesImage at 0x7f3946b3ed30>"
      ]
     },
     "execution_count": 207,
     "metadata": {},
     "output_type": "execute_result"
    },
    {
     "data": {
      "image/png": "[encoded data removed]",
      "text/plain": [
       "<Figure size 432x288 with 1 Axes>"
      ]
     },
     "metadata": {
      "needs_background": "light"
     },
     "output_type": "display_data"
    }
   ],
   "source": [
    "utc = 0\n",
    "base_dataset = GdapsKimBaseDataset(root_dir='/home/osilab12/ssd4', variable_filter='rain, snow')\n",
    "kim = base_dataset.load_array(origin=datetime(2020, 7, 12, hour=utc), lead_time=18)\n",
    "kim = kim[0]\n",
    "kim[np.isnan(aws)] = float(\"nan\")\n",
    "plt.imshow(kim[::-1])  # map of rain at 2020/07/01 10:00AM predicted at 0:00AM"
   ]
  },
  {
   "cell_type": "markdown",
   "id": "943a73f9",
   "metadata": {},
   "source": [
    "## StandardDataset"
   ]
  },
  {
   "cell_type": "code",
   "execution_count": null,
   "id": "10227c8f",
   "metadata": {},
   "outputs": [],
   "source": [
    "from data.dataset import Dataset, GdapsKimDataset"
   ]
  },
  {
   "cell_type": "code",
   "execution_count": 211,
   "id": "1e20e208",
   "metadata": {
    "scrolled": true
   },
   "outputs": [
    {
     "name": "stdout",
     "output_type": "stream",
     "text": [
      "Using total of 247 target timestamps\n"
     ]
    }
   ],
   "source": [
    "dataset = GdapsKimDataset(utc=0, window_size=3, root_dir=\"/data/nims\",\n",
    "                          date_intervals=[\n",
    "                              (datetime(2020, 7, 1), datetime(2020, 7, 5)),\n",
    "                              (datetime(2020, 7, 7), datetime(2020, 7, 14))\n",
    "                          ])"
   ]
  },
  {
   "cell_type": "code",
   "execution_count": 213,
   "id": "517440ee",
   "metadata": {
    "scrolled": true
   },
   "outputs": [
    {
     "name": "stdout",
     "output_type": "stream",
     "text": [
      "(3, 12, 50, 65)\n",
      "(50, 65)\n",
      "tensor([2020,    7,    1,    0,    6])\n",
      "tensor([2020,    7,    1,    0,    6])\n",
      "tensor([2020,    7,    1,    0,    7])\n",
      "tensor([2020,    7,    1,    0,    8])\n",
      "tensor([2020,    7,    1,    0,    9])\n",
      "tensor([2020,    7,    1,    0,   10])\n"
     ]
    }
   ],
   "source": [
    "for x, y, timestamp in dataset:\n",
    "    print(x.shape)\n",
    "    print(y.shape)\n",
    "    print(timestamp)\n",
    "    break\n",
    "    \n",
    "for x, y, timestamp in itertools.islice(dataset, 5):\n",
    "    print(timestamp)"
   ]
  },
  {
   "cell_type": "code",
   "execution_count": 221,
   "id": "3ee982d6",
   "metadata": {},
   "outputs": [],
   "source": [
    "from data.data_split import cyclic_split"
   ]
  },
  {
   "cell_type": "code",
   "execution_count": 222,
   "id": "6805a7a6",
   "metadata": {},
   "outputs": [],
   "source": [
    "train, val, test = cyclic_split(dataset, split_days=(4, 2, 2), cycle_start_delta=0)"
   ]
  },
  {
   "cell_type": "code",
   "execution_count": 172,
   "id": "ba60e40b",
   "metadata": {},
   "outputs": [
    {
     "name": "stdout",
     "output_type": "stream",
     "text": [
      "tensor([2020,    7,    5,    0,    6])\n",
      "tensor([2020,    7,    5,    0,    7])\n",
      "tensor([2020,    7,    5,    0,    8])\n",
      "tensor([2020,    7,    5,    0,    9])\n",
      "tensor([2020,    7,    5,    0,   10])\n",
      "tensor([2020,    7,    5,    0,   11])\n",
      "tensor([2020,    7,    5,    0,   12])\n",
      "tensor([2020,    7,    5,    0,   13])\n",
      "tensor([2020,    7,    5,    0,   14])\n",
      "tensor([2020,    7,    5,    0,   15])\n"
     ]
    }
   ],
   "source": [
    "for _, _, timestamp in itertools.islice(train, 10):\n",
    "    print(timestamp)"
   ]
  },
  {
   "cell_type": "code",
   "execution_count": 173,
   "id": "726c4b6e",
   "metadata": {},
   "outputs": [
    {
     "name": "stdout",
     "output_type": "stream",
     "text": [
      "tensor([2020,    7,    1,    0,    6])\n",
      "tensor([2020,    7,    1,    0,    7])\n",
      "tensor([2020,    7,    1,    0,    8])\n",
      "tensor([2020,    7,    1,    0,    9])\n",
      "tensor([2020,    7,    1,    0,   10])\n",
      "tensor([2020,    7,    1,    0,   11])\n",
      "tensor([2020,    7,    1,    0,   12])\n",
      "tensor([2020,    7,    1,    0,   13])\n",
      "tensor([2020,    7,    1,    0,   14])\n",
      "tensor([2020,    7,    1,    0,   15])\n"
     ]
    }
   ],
   "source": [
    "for _, _, timestamp in itertools.islice(val, 10):\n",
    "    print(timestamp)"
   ]
  },
  {
   "cell_type": "code",
   "execution_count": 174,
   "id": "480e90a2",
   "metadata": {},
   "outputs": [
    {
     "name": "stdout",
     "output_type": "stream",
     "text": [
      "tensor([2020,    7,    3,    0,    6])\n",
      "tensor([2020,    7,    3,    0,    7])\n",
      "tensor([2020,    7,    3,    0,    8])\n",
      "tensor([2020,    7,    3,    0,    9])\n",
      "tensor([2020,    7,    3,    0,   10])\n",
      "tensor([2020,    7,    3,    0,   11])\n",
      "tensor([2020,    7,    3,    0,   12])\n",
      "tensor([2020,    7,    3,    0,   13])\n",
      "tensor([2020,    7,    3,    0,   14])\n",
      "tensor([2020,    7,    3,    0,   15])\n"
     ]
    }
   ],
   "source": [
    "for _, _, timestamp in itertools.islice(test, 10):\n",
    "    print(timestamp)"
   ]
  },
  {
   "cell_type": "code",
   "execution_count": 150,
   "id": "8e394815",
   "metadata": {
    "scrolled": true
   },
   "outputs": [
    {
     "data": {
      "text/plain": [
       "(247, 95, 76, 76)"
      ]
     },
     "execution_count": 150,
     "metadata": {},
     "output_type": "execute_result"
    }
   ],
   "source": [
    "len(ds), len(train), len(val), len(test)"
   ]
  }
 ],
 "metadata": {
  "kernelspec": {
   "display_name": "Python 3 (ipykernel)",
   "language": "python",
   "name": "python3"
  },
  "language_info": {
   "codemirror_mode": {
    "name": "ipython",
    "version": 3
   },
   "file_extension": ".py",
   "mimetype": "text/x-python",
   "name": "python",
   "nbconvert_exporter": "python",
   "pygments_lexer": "ipython3",
   "version": "3.9.7"
  }
 },
 "nbformat": 4,
 "nbformat_minor": 5
}
