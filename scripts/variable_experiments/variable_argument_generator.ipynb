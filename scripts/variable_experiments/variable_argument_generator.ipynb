{
 "cells": [
  {
   "cell_type": "code",
   "execution_count": 8,
   "id": "41e49a42",
   "metadata": {},
   "outputs": [],
   "source": [
    "from copy import deepcopy"
   ]
  },
  {
   "cell_type": "markdown",
   "id": "e468bf5d",
   "metadata": {},
   "source": [
    "## Generate Variable Arguments"
   ]
  },
  {
   "cell_type": "code",
   "execution_count": 9,
   "id": "1bc91309",
   "metadata": {},
   "outputs": [],
   "source": [
    "default_variables = [\n",
    "    'T:850', 'T:700', 'T:500',\n",
    "    'rh_liq:850', 'rh_liq:700', 'rh_liq:500',\n",
    "    'rain', 'q2m', 'rh2m', 't2m', 'tsfc', 'ps'\n",
    "]"
   ]
  },
  {
   "cell_type": "code",
   "execution_count": 3,
   "id": "ac99c1d5",
   "metadata": {},
   "outputs": [],
   "source": [
    "pres = [\"u\", \"v\", \"T\", \"rh_liq\", \"hgt\"]\n",
    "unis = [\"rain\", \"hpbl\", \"pbltype\", \"psl\", \"q2m\", \"rh2m\", \"t2m\", \"tsfc\", \"u10m\", \"v10m\", \"topo\", \"ps\"]"
   ]
  },
  {
   "cell_type": "code",
   "execution_count": 4,
   "id": "fb415692",
   "metadata": {},
   "outputs": [
    {
     "data": {
      "text/plain": [
       "12"
      ]
     },
     "execution_count": 4,
     "metadata": {},
     "output_type": "execute_result"
    }
   ],
   "source": [
    "len(unis)"
   ]
  },
  {
   "cell_type": "code",
   "execution_count": 14,
   "id": "3ccebc19",
   "metadata": {},
   "outputs": [],
   "source": [
    "default = {\n",
    "    \"u\": False,\n",
    "    \"v\": False, \n",
    "    \"T\": True, \n",
    "    \"rh_liq\": True, \n",
    "    \"hgt\": False, \n",
    "    \"rain\": True, \n",
    "    \"hpbl\": False, \n",
    "    \"pbltype\": True, \n",
    "    \"psl\": False, \n",
    "    \"q2m\": True, \n",
    "    \"rh2m\": True, \n",
    "    \"t2m\": True,\n",
    "    \"tsfc\": True, \n",
    "    \"u10m\": False, \n",
    "    \"v10m\": False, \n",
    "    \"topo\": False,\n",
    "    \"ps\": True,\n",
    "}"
   ]
  },
  {
   "cell_type": "code",
   "execution_count": 36,
   "id": "34e9a80f",
   "metadata": {},
   "outputs": [
    {
     "data": {
      "text/plain": [
       "14"
      ]
     },
     "execution_count": 36,
     "metadata": {},
     "output_type": "execute_result"
    }
   ],
   "source": [
    "ablations = [\n",
    "    \"uv\", \"T\", \"rh_liq\", \"hgt\", \"hpbl\", \"pbltype\", \"psl\", \"q2m\", \"rh2m\", \"t2m\", \"tsfc\", \"uv10m\", \"topo\", \"ps\"\n",
    "]\n",
    "len(ablations)"
   ]
  },
  {
   "cell_type": "code",
   "execution_count": 37,
   "id": "0da7f7c8",
   "metadata": {},
   "outputs": [],
   "source": [
    "selections = []\n",
    "for a in ablations:\n",
    "    selection = deepcopy(default)\n",
    "    if a == \"uv\":\n",
    "        selection[\"u\"] = not selection[\"u\"]\n",
    "        selection[\"v\"] = not selection[\"v\"]\n",
    "    elif a == \"uv10m\":\n",
    "        selection[\"u10m\"] = not selection[\"u10m\"]\n",
    "        selection[\"v10m\"] = not selection[\"v10m\"]\n",
    "    else:\n",
    "        selection[a] = not selection[a]\n",
    "    selections.append(selection)"
   ]
  },
  {
   "cell_type": "code",
   "execution_count": 38,
   "id": "742bfaa2",
   "metadata": {},
   "outputs": [],
   "source": [
    "def selection_to_argument(selection: dict):\n",
    "    variables = []\n",
    "    for v in pres:\n",
    "        if selection[v]:\n",
    "            for suffix in [\":500\", \":700\", \":850\"]:\n",
    "                variables.append(v + suffix)\n",
    "    for v in unis:\n",
    "        if selection[v]:\n",
    "            variables.append(v)\n",
    "    return \", \".join(variables)"
   ]
  },
  {
   "cell_type": "code",
   "execution_count": 39,
   "id": "8265a993",
   "metadata": {},
   "outputs": [],
   "source": [
    "def selection_to_key(selection: dict):\n",
    "    variables = []\n",
    "    for v in pres + unis:\n",
    "        if selection[v]:\n",
    "            variables.append(v)\n",
    "    return \"_\".join(variables)"
   ]
  },
  {
   "cell_type": "code",
   "execution_count": 40,
   "id": "3916f3f2",
   "metadata": {},
   "outputs": [],
   "source": [
    "arguments = []\n",
    "keys = []\n",
    "for s in selections:\n",
    "    arguments.append(selection_to_argument(s))\n",
    "    keys.append(selection_to_key(s))"
   ]
  },
  {
   "cell_type": "code",
   "execution_count": 41,
   "id": "a6534dc8",
   "metadata": {},
   "outputs": [
    {
     "data": {
      "text/plain": [
       "['u:500, u:700, u:850, v:500, v:700, v:850, T:500, T:700, T:850, rh_liq:500, rh_liq:700, rh_liq:850, rain, pbltype, q2m, rh2m, t2m, tsfc, ps',\n",
       " 'rh_liq:500, rh_liq:700, rh_liq:850, rain, pbltype, q2m, rh2m, t2m, tsfc, ps',\n",
       " 'T:500, T:700, T:850, rain, pbltype, q2m, rh2m, t2m, tsfc, ps',\n",
       " 'T:500, T:700, T:850, rh_liq:500, rh_liq:700, rh_liq:850, hgt:500, hgt:700, hgt:850, rain, pbltype, q2m, rh2m, t2m, tsfc, ps',\n",
       " 'T:500, T:700, T:850, rh_liq:500, rh_liq:700, rh_liq:850, rain, hpbl, pbltype, q2m, rh2m, t2m, tsfc, ps',\n",
       " 'T:500, T:700, T:850, rh_liq:500, rh_liq:700, rh_liq:850, rain, q2m, rh2m, t2m, tsfc, ps',\n",
       " 'T:500, T:700, T:850, rh_liq:500, rh_liq:700, rh_liq:850, rain, pbltype, psl, q2m, rh2m, t2m, tsfc, ps',\n",
       " 'T:500, T:700, T:850, rh_liq:500, rh_liq:700, rh_liq:850, rain, pbltype, rh2m, t2m, tsfc, ps',\n",
       " 'T:500, T:700, T:850, rh_liq:500, rh_liq:700, rh_liq:850, rain, pbltype, q2m, t2m, tsfc, ps',\n",
       " 'T:500, T:700, T:850, rh_liq:500, rh_liq:700, rh_liq:850, rain, pbltype, q2m, rh2m, tsfc, ps',\n",
       " 'T:500, T:700, T:850, rh_liq:500, rh_liq:700, rh_liq:850, rain, pbltype, q2m, rh2m, t2m, ps',\n",
       " 'T:500, T:700, T:850, rh_liq:500, rh_liq:700, rh_liq:850, rain, pbltype, q2m, rh2m, t2m, tsfc, u10m, v10m, ps',\n",
       " 'T:500, T:700, T:850, rh_liq:500, rh_liq:700, rh_liq:850, rain, pbltype, q2m, rh2m, t2m, tsfc, topo, ps',\n",
       " 'T:500, T:700, T:850, rh_liq:500, rh_liq:700, rh_liq:850, rain, pbltype, q2m, rh2m, t2m, tsfc']"
      ]
     },
     "execution_count": 41,
     "metadata": {},
     "output_type": "execute_result"
    }
   ],
   "source": [
    "arguments"
   ]
  },
  {
   "cell_type": "code",
   "execution_count": 42,
   "id": "f8dcf0d2",
   "metadata": {
    "scrolled": true
   },
   "outputs": [
    {
     "data": {
      "text/plain": [
       "['u_v_T_rh_liq_rain_pbltype_q2m_rh2m_t2m_tsfc_ps',\n",
       " 'rh_liq_rain_pbltype_q2m_rh2m_t2m_tsfc_ps',\n",
       " 'T_rain_pbltype_q2m_rh2m_t2m_tsfc_ps',\n",
       " 'T_rh_liq_hgt_rain_pbltype_q2m_rh2m_t2m_tsfc_ps',\n",
       " 'T_rh_liq_rain_hpbl_pbltype_q2m_rh2m_t2m_tsfc_ps',\n",
       " 'T_rh_liq_rain_q2m_rh2m_t2m_tsfc_ps',\n",
       " 'T_rh_liq_rain_pbltype_psl_q2m_rh2m_t2m_tsfc_ps',\n",
       " 'T_rh_liq_rain_pbltype_rh2m_t2m_tsfc_ps',\n",
       " 'T_rh_liq_rain_pbltype_q2m_t2m_tsfc_ps',\n",
       " 'T_rh_liq_rain_pbltype_q2m_rh2m_tsfc_ps',\n",
       " 'T_rh_liq_rain_pbltype_q2m_rh2m_t2m_ps',\n",
       " 'T_rh_liq_rain_pbltype_q2m_rh2m_t2m_tsfc_u10m_v10m_ps',\n",
       " 'T_rh_liq_rain_pbltype_q2m_rh2m_t2m_tsfc_topo_ps',\n",
       " 'T_rh_liq_rain_pbltype_q2m_rh2m_t2m_tsfc']"
      ]
     },
     "execution_count": 42,
     "metadata": {},
     "output_type": "execute_result"
    }
   ],
   "source": [
    "keys"
   ]
  },
  {
   "cell_type": "markdown",
   "id": "f8b66054",
   "metadata": {},
   "source": [
    "### Output Bash List"
   ]
  },
  {
   "cell_type": "code",
   "execution_count": 47,
   "id": "042ae9a9",
   "metadata": {
    "scrolled": false
   },
   "outputs": [
    {
     "name": "stdout",
     "output_type": "stream",
     "text": [
      "VARS=(\n",
      "\t\"u:500, u:700, u:850, v:500, v:700, v:850, T:500, T:700, T:850, rh_liq:500, rh_liq:700, rh_liq:850, rain, pbltype, q2m, rh2m, t2m, tsfc, ps\"\n",
      "\t\"rh_liq:500, rh_liq:700, rh_liq:850, rain, pbltype, q2m, rh2m, t2m, tsfc, ps\"\n",
      "\t\"T:500, T:700, T:850, rain, pbltype, q2m, rh2m, t2m, tsfc, ps\"\n",
      "\t\"T:500, T:700, T:850, rh_liq:500, rh_liq:700, rh_liq:850, hgt:500, hgt:700, hgt:850, rain, pbltype, q2m, rh2m, t2m, tsfc, ps\"\n",
      "\t\"T:500, T:700, T:850, rh_liq:500, rh_liq:700, rh_liq:850, rain, hpbl, pbltype, q2m, rh2m, t2m, tsfc, ps\"\n",
      "\t\"T:500, T:700, T:850, rh_liq:500, rh_liq:700, rh_liq:850, rain, q2m, rh2m, t2m, tsfc, ps\"\n",
      "\t\"T:500, T:700, T:850, rh_liq:500, rh_liq:700, rh_liq:850, rain, pbltype, psl, q2m, rh2m, t2m, tsfc, ps\"\n",
      "\t\"T:500, T:700, T:850, rh_liq:500, rh_liq:700, rh_liq:850, rain, pbltype, rh2m, t2m, tsfc, ps\"\n",
      "\t\"T:500, T:700, T:850, rh_liq:500, rh_liq:700, rh_liq:850, rain, pbltype, q2m, t2m, tsfc, ps\"\n",
      "\t\"T:500, T:700, T:850, rh_liq:500, rh_liq:700, rh_liq:850, rain, pbltype, q2m, rh2m, tsfc, ps\"\n",
      "\t\"T:500, T:700, T:850, rh_liq:500, rh_liq:700, rh_liq:850, rain, pbltype, q2m, rh2m, t2m, ps\"\n",
      "\t\"T:500, T:700, T:850, rh_liq:500, rh_liq:700, rh_liq:850, rain, pbltype, q2m, rh2m, t2m, tsfc, u10m, v10m, ps\"\n",
      "\t\"T:500, T:700, T:850, rh_liq:500, rh_liq:700, rh_liq:850, rain, pbltype, q2m, rh2m, t2m, tsfc, topo, ps\"\n",
      "\t\"T:500, T:700, T:850, rh_liq:500, rh_liq:700, rh_liq:850, rain, pbltype, q2m, rh2m, t2m, tsfc\"\n",
      ")\n",
      "\n",
      "VAR_KEYS=(\n",
      "\t\"u_v_T_rh_liq_rain_pbltype_q2m_rh2m_t2m_tsfc_ps\"\n",
      "\t\"rh_liq_rain_pbltype_q2m_rh2m_t2m_tsfc_ps\"\n",
      "\t\"T_rain_pbltype_q2m_rh2m_t2m_tsfc_ps\"\n",
      "\t\"T_rh_liq_hgt_rain_pbltype_q2m_rh2m_t2m_tsfc_ps\"\n",
      "\t\"T_rh_liq_rain_hpbl_pbltype_q2m_rh2m_t2m_tsfc_ps\"\n",
      "\t\"T_rh_liq_rain_q2m_rh2m_t2m_tsfc_ps\"\n",
      "\t\"T_rh_liq_rain_pbltype_psl_q2m_rh2m_t2m_tsfc_ps\"\n",
      "\t\"T_rh_liq_rain_pbltype_rh2m_t2m_tsfc_ps\"\n",
      "\t\"T_rh_liq_rain_pbltype_q2m_t2m_tsfc_ps\"\n",
      "\t\"T_rh_liq_rain_pbltype_q2m_rh2m_tsfc_ps\"\n",
      "\t\"T_rh_liq_rain_pbltype_q2m_rh2m_t2m_ps\"\n",
      "\t\"T_rh_liq_rain_pbltype_q2m_rh2m_t2m_tsfc_u10m_v10m_ps\"\n",
      "\t\"T_rh_liq_rain_pbltype_q2m_rh2m_t2m_tsfc_topo_ps\"\n",
      "\t\"T_rh_liq_rain_pbltype_q2m_rh2m_t2m_tsfc\"\n",
      ")\n"
     ]
    }
   ],
   "source": [
    "print(\"VARS=(\")\n",
    "for a in arguments:\n",
    "    print('\\t\"{}\"'.format(a))\n",
    "print(\")\")\n",
    "print()\n",
    "\n",
    "print(\"VAR_KEYS=(\")\n",
    "for k in keys:\n",
    "    print('\\t\"{}\"'.format(k))\n",
    "print(\")\")"
   ]
  }
 ],
 "metadata": {
  "kernelspec": {
   "display_name": "Python 3 (ipykernel)",
   "language": "python",
   "name": "python3"
  },
  "language_info": {
   "codemirror_mode": {
    "name": "ipython",
    "version": 3
   },
   "file_extension": ".py",
   "mimetype": "text/x-python",
   "name": "python",
   "nbconvert_exporter": "python",
   "pygments_lexer": "ipython3",
   "version": "3.9.7"
  }
 },
 "nbformat": 4,
 "nbformat_minor": 5
}
